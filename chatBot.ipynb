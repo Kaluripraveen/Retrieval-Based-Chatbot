{
  "nbformat": 4,
  "nbformat_minor": 0,
  "metadata": {
    "colab": {
      "provenance": []
    },
    "kernelspec": {
      "name": "python3",
      "display_name": "Python 3"
    },
    "language_info": {
      "name": "python"
    }
  },
  "cells": [
    {
      "cell_type": "code",
      "execution_count": 1,
      "metadata": {
        "id": "u84I3FBNcvDk"
      },
      "outputs": [],
      "source": [
        "import numpy as np\n",
        "import string\n",
        "import nltk\n",
        "import random"
      ]
    },
    {
      "cell_type": "code",
      "source": [
        "f = open(\"/content/data.txt\", 'r', errors= 'ignore')\n",
        "raw_data =f.read()"
      ],
      "metadata": {
        "id": "aWNUnJQHgXdr"
      },
      "execution_count": 2,
      "outputs": []
    },
    {
      "cell_type": "code",
      "source": [
        "raw_data = raw_data.lower()\n",
        "nltk.download('punkt')#tokenizer\n",
        "nltk.download('wordnet')\n",
        "nltk.download('omw-1.4')"
      ],
      "metadata": {
        "colab": {
          "base_uri": "https://localhost:8080/"
        },
        "id": "r05l9NLThBVi",
        "outputId": "8cefe3f6-cf8c-4e82-ced1-472dc57a70ae"
      },
      "execution_count": 5,
      "outputs": [
        {
          "output_type": "stream",
          "name": "stderr",
          "text": [
            "[nltk_data] Downloading package punkt to /root/nltk_data...\n",
            "[nltk_data]   Unzipping tokenizers/punkt.zip.\n",
            "[nltk_data] Downloading package wordnet to /root/nltk_data...\n",
            "[nltk_data] Downloading package omw-1.4 to /root/nltk_data...\n"
          ]
        },
        {
          "output_type": "execute_result",
          "data": {
            "text/plain": [
              "True"
            ]
          },
          "metadata": {},
          "execution_count": 5
        }
      ]
    },
    {
      "cell_type": "code",
      "source": [
        "sentence_token = nltk.sent_tokenize(raw_data)\n",
        "word_token = nltk.word_tokenize(raw_data)\n"
      ],
      "metadata": {
        "id": "TrIaWiUBkCij"
      },
      "execution_count": 7,
      "outputs": []
    },
    {
      "cell_type": "code",
      "source": [
        "sentence_token[:2]"
      ],
      "metadata": {
        "colab": {
          "base_uri": "https://localhost:8080/"
        },
        "id": "y3VnhGvniqDp",
        "outputId": "683da30e-e24a-43f3-fe26-ede31a5e9a1a"
      },
      "execution_count": 11,
      "outputs": [
        {
          "output_type": "execute_result",
          "data": {
            "text/plain": [
              "['main menu\\n\\nwikipediathe free encyclopedia\\nsearch wikipedia\\ncreate account\\nlog in\\n\\npersonal tools\\ncontents hide\\n(top)\\nbackground\\ndevelopment\\napplication\\ntoggle application subsection\\nmessaging apps\\nas part of company apps and websites\\nchatbot sequences\\ncompany internal platforms\\ncustomer service\\nhealthcare\\npolitics\\ntoys\\nmalicious use\\nlimitations of chatbots\\nchatbots and jobs\\nsee also\\nreferences\\nfurther reading\\nexternal links\\nchatbot\\n\\narticle\\ntalk\\nread\\nview source\\nview history\\n\\ntools\\npage semi-protected\\nfrom wikipedia, the free encyclopedia\\nfor other uses, see chatbot (disambiguation).',\n",
              " 'parts of this article (those related to everything) need to be updated.']"
            ]
          },
          "metadata": {},
          "execution_count": 11
        }
      ]
    },
    {
      "cell_type": "code",
      "source": [
        "word_token[:5]"
      ],
      "metadata": {
        "colab": {
          "base_uri": "https://localhost:8080/"
        },
        "id": "vt491Ugkkck-",
        "outputId": "0852a329-f339-4aa7-ba1c-fc145ab7a9b9"
      },
      "execution_count": 10,
      "outputs": [
        {
          "output_type": "execute_result",
          "data": {
            "text/plain": [
              "['main', 'menu', 'wikipediathe', 'free', 'encyclopedia']"
            ]
          },
          "metadata": {},
          "execution_count": 10
        }
      ]
    },
    {
      "cell_type": "code",
      "source": [
        "lemmer = nltk.stem.WordNetLemmatizer()\n",
        "def  LemTokens(tokens):\n",
        "  return [lemmer.lemmatizer(tokens) for token in tokens]\n",
        "remove_puct_dict = dict((ord(punct),None) for punct in string.punctuation)\n",
        "def lemNormalizer(text):\n",
        "  return LemTokens(nltk.word_tokenizer(text.lower().translate(remove_puct_dict)))\n"
      ],
      "metadata": {
        "id": "1XQe9CTW96UO"
      },
      "execution_count": 13,
      "outputs": []
    },
    {
      "cell_type": "code",
      "source": [
        "from sklearn.feature_extraction.text import TfidfVectorizer\n",
        "from sklearn.metrics.pairwise import cosine_similarity"
      ],
      "metadata": {
        "id": "oN1dKgDVkhhH"
      },
      "execution_count": null,
      "outputs": []
    },
    {
      "cell_type": "code",
      "source": [
        "greet_input = ('hey','hi','hii','there','hello')\n",
        "greet_reponse= ('suuupp','there there','missed you','lets start')\n",
        "def greet(sentence):\n",
        "  for words in sentence.split():\n",
        "    if words == greet_input:\n",
        "        return random.choice(greet_reponse)\n"
      ],
      "metadata": {
        "id": "fTqt_uM5IEJd"
      },
      "execution_count": 14,
      "outputs": []
    },
    {
      "cell_type": "code",
      "source": [
        "def reponse(user_response):\n",
        "  robo_respone = ''\n",
        "  tfidfVec = TfidfVectorizer(tokenizer=lemNormalizer,stop_words='english')\n",
        "  tfidf = tfidfVec.fit_transform(sentence_token)\n",
        "  val = cosine_similarity(tfidf[-1],tfidf)\n",
        "  idx = val.argsort()[0][-2]"
      ],
      "metadata": {
        "id": "6c7VimXkQwTp"
      },
      "execution_count": null,
      "outputs": []
    }
  ]
}